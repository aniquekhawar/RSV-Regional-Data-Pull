{
 "cells": [
  {
   "cell_type": "code",
   "execution_count": 11,
   "metadata": {},
   "outputs": [],
   "source": [
    "import pandas as pd\n",
    "\n",
    "urls = ['https://www.cdc.gov/surveillance/nrevss/images/trend_images/RSV124PP_Reg1.htm', # northeast\n",
    "        'https://www.cdc.gov/surveillance/nrevss/images/trend_images/RSV124PP_Reg2.htm', # midwest\n",
    "        'https://www.cdc.gov/surveillance/nrevss/images/trend_images/RSV124PP_Reg3.htm', # south\n",
    "        'https://www.cdc.gov/surveillance/nrevss/images/trend_images/RSV124PP_Reg4.htm'] # west\n",
    "\n",
    "frames = []\n",
    "for table in urls:\n",
    "    temp_df = pd.read_html(table)[0]\n",
    "    temp_df = temp_df[['RepWeekDate', 'RegID', 'PCR Detection']]\n",
    "    temp_df.drop('Unnamed: 0', axis = 1, inplace = True, errors = 'ignore')\n",
    "    frames.append(temp_df)\n",
    "df = pd.concat(frames)\n",
    "df.to_csv('rsv_regional_data.csv', index = False)"
   ]
  }
 ],
 "metadata": {
  "interpreter": {
   "hash": "397704579725e15f5c7cb49fe5f0341eb7531c82d19f2c29d197e8b64ab5776b"
  },
  "kernelspec": {
   "display_name": "Python 3.9.4 64-bit",
   "language": "python",
   "name": "python3"
  },
  "language_info": {
   "codemirror_mode": {
    "name": "ipython",
    "version": 3
   },
   "file_extension": ".py",
   "mimetype": "text/x-python",
   "name": "python",
   "nbconvert_exporter": "python",
   "pygments_lexer": "ipython3",
   "version": "3.9.4"
  },
  "orig_nbformat": 4
 },
 "nbformat": 4,
 "nbformat_minor": 2
}
